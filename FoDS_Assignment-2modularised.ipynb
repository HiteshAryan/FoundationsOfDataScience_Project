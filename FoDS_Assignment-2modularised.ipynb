{
 "cells": [
  {
   "cell_type": "code",
   "execution_count": 28,
   "metadata": {},
   "outputs": [],
   "source": [
    "import csv\n",
    "import numpy as np\n",
    "import pandas as pd\n",
    "import random\n",
    "import matplotlib.pyplot as plt \n",
    "random.seed(7)\n",
    "filename = '/Users/Hitesh Aryan Acharya/Desktop/OnlineClass/3-1/FoDS/insurance_dataset.csv'\n",
    "ds = pd.read_csv(filename)"
   ]
  },
  {
   "cell_type": "code",
   "execution_count": 29,
   "metadata": {},
   "outputs": [
    {
     "name": "stdout",
     "output_type": "stream",
     "text": [
      "39 30 1 13270\n",
      "14 6 1 12110\n"
     ]
    }
   ],
   "source": [
    "mean1 = int(ds['age'].mean())\n",
    "mean2 = int(ds['bmi'].mean())\n",
    "mean3 = int(ds['children'].mean())\n",
    "mean4 = int(ds['charges'].mean())\n",
    "print(mean1, mean2, mean3, mean4)\n",
    "std1 = int(ds['age'].std())\n",
    "std2 = int(ds['bmi'].std())\n",
    "std3 = int(ds['children'].std())\n",
    "std4 = int(ds['charges'].std())\n",
    "print(std1, std2, std3, std4)"
   ]
  },
  {
   "cell_type": "code",
   "execution_count": 30,
   "metadata": {},
   "outputs": [
    {
     "data": {
      "text/html": [
       "<div>\n",
       "<style scoped>\n",
       "    .dataframe tbody tr th:only-of-type {\n",
       "        vertical-align: middle;\n",
       "    }\n",
       "\n",
       "    .dataframe tbody tr th {\n",
       "        vertical-align: top;\n",
       "    }\n",
       "\n",
       "    .dataframe thead th {\n",
       "        text-align: right;\n",
       "    }\n",
       "</style>\n",
       "<table border=\"1\" class=\"dataframe\">\n",
       "  <thead>\n",
       "    <tr style=\"text-align: right;\">\n",
       "      <th></th>\n",
       "      <th>age</th>\n",
       "      <th>bmi</th>\n",
       "      <th>children</th>\n",
       "      <th>charges</th>\n",
       "    </tr>\n",
       "  </thead>\n",
       "  <tbody>\n",
       "    <tr>\n",
       "      <th>0</th>\n",
       "      <td>-1.428571</td>\n",
       "      <td>-0.350000</td>\n",
       "      <td>-1.0</td>\n",
       "      <td>0.298507</td>\n",
       "    </tr>\n",
       "    <tr>\n",
       "      <th>1</th>\n",
       "      <td>-1.500000</td>\n",
       "      <td>0.628333</td>\n",
       "      <td>0.0</td>\n",
       "      <td>-0.953299</td>\n",
       "    </tr>\n",
       "    <tr>\n",
       "      <th>2</th>\n",
       "      <td>-0.785714</td>\n",
       "      <td>0.500000</td>\n",
       "      <td>2.0</td>\n",
       "      <td>-0.728368</td>\n",
       "    </tr>\n",
       "    <tr>\n",
       "      <th>3</th>\n",
       "      <td>-0.428571</td>\n",
       "      <td>-1.215833</td>\n",
       "      <td>-1.0</td>\n",
       "      <td>0.719609</td>\n",
       "    </tr>\n",
       "    <tr>\n",
       "      <th>4</th>\n",
       "      <td>-0.500000</td>\n",
       "      <td>-0.186667</td>\n",
       "      <td>-1.0</td>\n",
       "      <td>-0.776478</td>\n",
       "    </tr>\n",
       "  </tbody>\n",
       "</table>\n",
       "</div>"
      ],
      "text/plain": [
       "        age       bmi  children   charges\n",
       "0 -1.428571 -0.350000      -1.0  0.298507\n",
       "1 -1.500000  0.628333       0.0 -0.953299\n",
       "2 -0.785714  0.500000       2.0 -0.728368\n",
       "3 -0.428571 -1.215833      -1.0  0.719609\n",
       "4 -0.500000 -0.186667      -1.0 -0.776478"
      ]
     },
     "execution_count": 30,
     "metadata": {},
     "output_type": "execute_result"
    }
   ],
   "source": [
    "ds['age'] = (ds['age']-mean1)/std1\n",
    "ds['bmi'] = (ds['bmi']-mean2)/std2\n",
    "ds['children'] = (ds['children']-mean3)/std3\n",
    "ds['charges'] = (ds['charges']-mean4)/std4\n",
    "ds.head()"
   ]
  },
  {
   "cell_type": "code",
   "execution_count": 45,
   "metadata": {},
   "outputs": [],
   "source": [
    "#ds = ds.sample(frac = 1)\n",
    "train_ds_count = int(0.7 * len(ds))\n",
    "train_ds, test_ds = ds[:train_ds_count], ds[train_ds_count:]\n",
    "x0 = np.ones(train_ds_count, dtype = int)\n",
    "x1, x2, x3, y_train = train_ds['age'], train_ds['bmi'], train_ds['children'], train_ds['charges']\n",
    "X = np.array([x0, x1, x2, x3])\n",
    "y_train = y_train.reset_index(drop=True)\n",
    "\n",
    "def normalE():\n",
    "    W_normal = np.dot(np.linalg.inv(np.dot(X, X.T)), np.dot(X, y_train))\n",
    "    print(W_normal)\n",
    "    \n",
    "iterations = 100\n",
    "learn_rate = 0.001\n",
    "\n",
    "def gradientD():\n",
    "    W_GD = np.zeros(4)\n",
    "    costsGD = []\n",
    "    for _ in range(iterations):    \n",
    "        delEGD = np.dot(np.dot(X.T, W_GD) - y_train, X.T)\n",
    "        costGD = (1/(2*train_ds_count)*np.sum(np.square(np.dot(X.T, W_GD) - y_train)))\n",
    "        costsGD.append(costGD)\n",
    "        W_GD -= learn_rate*delEGD\n",
    "    print(W_GD)\n",
    "    \n",
    "p = random.randrange(0, train_ds_count)\n",
    "    \n",
    "def stochasticGD():\n",
    "    W_SGD = np.zeros(4)\n",
    "    costsSGD = []\n",
    "    for _ in range(iterations):\n",
    "        delESGD = np.dot(np.dot(X.T[p], W_SGD) - y_train[p], X.T[p])\n",
    "        costSGD = (1/(2*train_ds_count)*np.sum(np.square(np.dot(X.T[p], W_SGD) - y_train[p])))\n",
    "        costsSGD.append(costSGD)\n",
    "        W_SGD -= learn_rate*delESGD\n",
    "    print(W_SGD)\n",
    "\n",
    "#normalE()\n",
    "#gradientD()\n",
    "#stochasticGD()"
   ]
  }
 ],
 "metadata": {
  "kernelspec": {
   "display_name": "Python 3",
   "language": "python",
   "name": "python3"
  },
  "language_info": {
   "codemirror_mode": {
    "name": "ipython",
    "version": 3
   },
   "file_extension": ".py",
   "mimetype": "text/x-python",
   "name": "python",
   "nbconvert_exporter": "python",
   "pygments_lexer": "ipython3",
   "version": "3.7.3"
  }
 },
 "nbformat": 4,
 "nbformat_minor": 2
}
