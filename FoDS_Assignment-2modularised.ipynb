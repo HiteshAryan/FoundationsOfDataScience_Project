{
 "cells": [
  {
   "cell_type": "code",
   "execution_count": 2,
   "metadata": {},
   "outputs": [],
   "source": [
    "import csv\n",
    "import numpy as np\n",
    "import pandas as pd\n",
    "import random\n",
    "import matplotlib.pyplot as plt \n",
    "filename = '/Users/Hitesh Aryan Acharya/Desktop/OnlineClass/3-1/FoDS/insurance_dataset.csv'\n",
    "ds = pd.read_csv(filename)"
   ]
  },
  {
   "cell_type": "code",
   "execution_count": 3,
   "metadata": {},
   "outputs": [
    {
     "name": "stdout",
     "output_type": "stream",
     "text": [
      "39 30 1 13270\n",
      "14 6 1 12110\n"
     ]
    }
   ],
   "source": [
    "mean1 = int(ds['age'].mean())\n",
    "mean2 = int(ds['bmi'].mean())\n",
    "mean3 = int(ds['children'].mean())\n",
    "mean4 = int(ds['charges'].mean())\n",
    "print(mean1, mean2, mean3, mean4)\n",
    "std1 = int(ds['age'].std())\n",
    "std2 = int(ds['bmi'].std())\n",
    "std3 = int(ds['children'].std())\n",
    "std4 = int(ds['charges'].std())\n",
    "print(std1, std2, std3, std4)"
   ]
  },
  {
   "cell_type": "code",
   "execution_count": 4,
   "metadata": {},
   "outputs": [
    {
     "data": {
      "text/html": [
       "<div>\n",
       "<style scoped>\n",
       "    .dataframe tbody tr th:only-of-type {\n",
       "        vertical-align: middle;\n",
       "    }\n",
       "\n",
       "    .dataframe tbody tr th {\n",
       "        vertical-align: top;\n",
       "    }\n",
       "\n",
       "    .dataframe thead th {\n",
       "        text-align: right;\n",
       "    }\n",
       "</style>\n",
       "<table border=\"1\" class=\"dataframe\">\n",
       "  <thead>\n",
       "    <tr style=\"text-align: right;\">\n",
       "      <th></th>\n",
       "      <th>age</th>\n",
       "      <th>bmi</th>\n",
       "      <th>children</th>\n",
       "      <th>charges</th>\n",
       "    </tr>\n",
       "  </thead>\n",
       "  <tbody>\n",
       "    <tr>\n",
       "      <th>0</th>\n",
       "      <td>-1.428571</td>\n",
       "      <td>-0.350000</td>\n",
       "      <td>-1.0</td>\n",
       "      <td>0.298507</td>\n",
       "    </tr>\n",
       "    <tr>\n",
       "      <th>1</th>\n",
       "      <td>-1.500000</td>\n",
       "      <td>0.628333</td>\n",
       "      <td>0.0</td>\n",
       "      <td>-0.953299</td>\n",
       "    </tr>\n",
       "    <tr>\n",
       "      <th>2</th>\n",
       "      <td>-0.785714</td>\n",
       "      <td>0.500000</td>\n",
       "      <td>2.0</td>\n",
       "      <td>-0.728368</td>\n",
       "    </tr>\n",
       "    <tr>\n",
       "      <th>3</th>\n",
       "      <td>-0.428571</td>\n",
       "      <td>-1.215833</td>\n",
       "      <td>-1.0</td>\n",
       "      <td>0.719609</td>\n",
       "    </tr>\n",
       "    <tr>\n",
       "      <th>4</th>\n",
       "      <td>-0.500000</td>\n",
       "      <td>-0.186667</td>\n",
       "      <td>-1.0</td>\n",
       "      <td>-0.776478</td>\n",
       "    </tr>\n",
       "  </tbody>\n",
       "</table>\n",
       "</div>"
      ],
      "text/plain": [
       "        age       bmi  children   charges\n",
       "0 -1.428571 -0.350000      -1.0  0.298507\n",
       "1 -1.500000  0.628333       0.0 -0.953299\n",
       "2 -0.785714  0.500000       2.0 -0.728368\n",
       "3 -0.428571 -1.215833      -1.0  0.719609\n",
       "4 -0.500000 -0.186667      -1.0 -0.776478"
      ]
     },
     "execution_count": 4,
     "metadata": {},
     "output_type": "execute_result"
    }
   ],
   "source": [
    "ds['age'] = (ds['age']-mean1)/std1\n",
    "ds['bmi'] = (ds['bmi']-mean2)/std2\n",
    "ds['children'] = (ds['children']-mean3)/std3\n",
    "ds['charges'] = (ds['charges']-mean4)/std4\n",
    "ds.head()"
   ]
  },
  {
   "cell_type": "code",
   "execution_count": 11,
   "metadata": {},
   "outputs": [],
   "source": [
    "def randomS():    \n",
    "    dsR = ds.sample(frac = 1)\n",
    "    train_ds_count = int(0.7 * len(dsR))\n",
    "    train_ds, test_ds = dsR[:train_ds_count], dsR[train_ds_count:]\n",
    "    x0 = np.ones(train_ds_count, dtype = int)\n",
    "    x1, x2, x3, y_train = train_ds['age'], train_ds['bmi'], train_ds['children'], train_ds['charges']\n",
    "    x0_test, x1_test, x2_test, x3_test, y_test = np.ones(len(dsR) - train_ds_count, dtype = int), test_ds['age'], test_ds['bmi'], test_ds['children'], test_ds['charges']\n",
    "    X = np.array([x0, x1, x2, x3])\n",
    "    X_test = np.array([x0_test, x1_test, x2_test, x3_test])\n",
    "    y_train, y_test = y_train.reset_index(drop=True), y_test.reset_index(drop=True)\n",
    "    return X, X_test, y_train, y_test, train_ds_count\n",
    "    \n",
    "def normalE():\n",
    "    X, X_test, y_train, y_test, train_ds_count = randomS()\n",
    "    W_normal = np.dot(np.linalg.inv(np.dot(X, X.T)), np.dot(X, y_train))\n",
    "    costN = (1/(2*train_ds_count)*np.sum(np.square(np.dot(X.T, W_normal) - y_train)))\n",
    "    \n",
    "    costN_test = (1/(2*(len(ds) - train_ds_count))*np.sum(np.square(np.dot(X_test.T, W_normal) - y_test)))\n",
    "    #print(costN_test, costN)\n",
    "    return W_normal, costN, costN_test\n",
    "\n",
    "iterations = 1000\n",
    "\n",
    "def gradientD(d, learn_rate):\n",
    "    X, X_test, y_train, y_test, train_ds_count = randomS()\n",
    "    W_GD = np.zeros(4)\n",
    "    costsGD = []\n",
    "    for i in range(iterations):    \n",
    "        delEGD = np.dot(np.dot(X.T, W_GD) - y_train, X.T)\n",
    "        costGD = (1/(2*train_ds_count)*np.sum(np.square(np.dot(X.T, W_GD) - y_train)))\n",
    "        costsGD.append(costGD)\n",
    "        if(d and i % 50 == 0):\n",
    "            print(costGD)\n",
    "        W_GD -= learn_rate*delEGD\n",
    "        \n",
    "    costGD_test = (1/(2*(len(ds) - train_ds_count))*np.sum(np.square(np.dot(X_test.T, W_GD) - y_test)))\n",
    "    #print(costGD_test, costsGD[-1])\n",
    "    return W_GD, costsGD, costGD_test\n",
    "\n",
    "\n",
    "def stochasticGD(d, learn_rate):\n",
    "    X, X_test, y_train, y_test, train_ds_count = randomS()\n",
    "    W_SGD = np.zeros(4)\n",
    "    costsSGD = []\n",
    "    p = random.randrange(0, train_ds_count)\n",
    "    for i in range(iterations):\n",
    "        delESGD = np.dot(np.dot(X.T[p], W_SGD) - y_train[p], X.T[p])\n",
    "        costSGD = (1/(2*train_ds_count)*np.sum(np.square(np.dot(X.T, W_SGD) - y_train)))\n",
    "        costsSGD.append(costSGD)\n",
    "        if(d and i % 50 == 0):\n",
    "            print(costGD)\n",
    "        W_SGD -= learn_rate*delESGD\n",
    "    \n",
    "    costSGD_test = (1/(2*(len(ds) - train_ds_count))*np.sum(np.square(np.dot(X_test.T, W_SGD) - y_test)))\n",
    "    #print(costSGD_test, costsSGD[-1])\n",
    "    return W_SGD, costsSGD, costSGD_test\n",
    "\n",
    "#print(normalE())\n",
    "#print(gradientD(False, learn_rate))\n",
    "#print(stochasticGD(False, learn_rate))"
   ]
  },
  {
   "cell_type": "code",
   "execution_count": 12,
   "metadata": {},
   "outputs": [],
   "source": [
    "#for i in range(20):\n",
    "#wN, cN, cN_test = normalE()\n",
    "#wGD, cGD, cGD_test = gradientD(False, learn_rate) \n",
    "#wSGD, cSGD, cSGD_test = stochasticGD(False, learn_rate)"
   ]
  },
  {
   "cell_type": "code",
   "execution_count": 15,
   "metadata": {},
   "outputs": [
    {
     "name": "stderr",
     "output_type": "stream",
     "text": [
      "C:\\Users\\Hitesh Aryan Acharya\\Anaconda3\\lib\\site-packages\\ipykernel_launcher.py:30: RuntimeWarning: overflow encountered in square\n"
     ]
    },
    {
     "data": {
      "image/png": "[encoded data removed]",
      "text/plain": [
       "<Figure size 432x288 with 1 Axes>"
      ]
     },
     "metadata": {
      "needs_background": "light"
     },
     "output_type": "display_data"
    },
    {
     "data": {
      "image/png": "[encoded data removed]",
      "text/plain": [
       "<Figure size 432x288 with 1 Axes>"
      ]
     },
     "metadata": {
      "needs_background": "light"
     },
     "output_type": "display_data"
    }
   ],
   "source": [
    "learning_rates = [0.1, 0.01, 0.001]\n",
    "def plotGD():\n",
    "    for i in learning_rates:\n",
    "        wGD, cGD, cGD_test = gradientD(False, 0.1)\n",
    "        plt.plot(cGD)\n",
    "        \n",
    "    plt.ylabel('cost')\n",
    "    plt.xlabel('iterations')\n",
    "    \n",
    "    #legend = plt.legend(loc='upper center', shadow=True)\n",
    "    #frame = legend.get_frame()\n",
    "    #frame.set_facecolor('0.90')\n",
    "    plt.show()\n",
    "plotGD()\n",
    "\n",
    "def plotSGD():\n",
    "    for i in learning_rates:\n",
    "        wSGD, cSGD, cSGD_test = stochasticGD(False, 0.1)\n",
    "        plt.plot(cSGD)\n",
    "        \n",
    "    plt.ylabel('cost')\n",
    "    plt.xlabel('iterations')\n",
    "    \n",
    "    #legend = plt.legend(loc='upper center', shadow=True)\n",
    "    #frame = legend.get_frame()\n",
    "    #frame.set_facecolor('0.90')\n",
    "    plt.show()\n",
    "plotSGD()"
   ]
  },
  {
   "cell_type": "code",
   "execution_count": null,
   "metadata": {},
   "outputs": [],
   "source": []
  }
 ],
 "metadata": {
  "kernelspec": {
   "display_name": "Python 3",
   "language": "python",
   "name": "python3"
  },
  "language_info": {
   "codemirror_mode": {
    "name": "ipython",
    "version": 3
   },
   "file_extension": ".py",
   "mimetype": "text/x-python",
   "name": "python",
   "nbconvert_exporter": "python",
   "pygments_lexer": "ipython3",
   "version": "3.7.3"
  }
 },
 "nbformat": 4,
 "nbformat_minor": 2
}
